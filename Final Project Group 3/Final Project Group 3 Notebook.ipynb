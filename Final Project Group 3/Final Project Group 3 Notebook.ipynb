{
 "cells": [
  {
   "cell_type": "markdown",
   "metadata": {},
   "source": [
    "## Introduction:\n",
    "For this project our group was tasked with defining and proving the best neighborhood in Pittsburgh using our preference metric. From here we were able to look online at large selection of datasets and pick which ones we believed were most relevalant to finding the best neighborhood. We decided that the overall safety of a neighborhood would be our way of defining which one is best.  \n",
    "\n",
    "## The Metric: \n",
    "Our metric is the overall safety of a neighborhood. To measure this, we split safety into three different categories: Fire Alarms, Arrest Reports and _____________________________. \n",
    "\n",
    "## The Best Neighborhood: \n",
    "As you can see in our individual sections, both Forest and Adele's best neighborhood was Mr. Oliver Neighborhood because it has the least amount of Fire Alarms and the least amount of Arrest Reports. \n",
    "\n",
    "## Conclusion: \n",
    "Reflect on how the data driven determination of “best neighborhood” is the same or different from your personal favorite neighborhood. Each member of the group should write their own response to this.\n"
   ]
  },
  {
   "cell_type": "code",
   "execution_count": null,
   "metadata": {},
   "outputs": [],
   "source": []
  }
 ],
 "metadata": {
  "kernelspec": {
   "display_name": "Python 3",
   "language": "python",
   "name": "python3"
  },
  "language_info": {
   "codemirror_mode": {
    "name": "ipython",
    "version": 3
   },
   "file_extension": ".py",
   "mimetype": "text/x-python",
   "name": "python",
   "nbconvert_exporter": "python",
   "pygments_lexer": "ipython3",
   "version": "3.8.3"
  }
 },
 "nbformat": 4,
 "nbformat_minor": 4
}

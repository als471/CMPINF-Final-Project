{
 "cells": [
  {
   "cell_type": "markdown",
   "metadata": {},
   "source": [
    "## Introduction:\n",
    "For this project our group, Adele, Forest and Chris, was tasked with defining and proving the best neighborhood in Pittsburgh using our preference metric. From here we were able to look online at large selection of datasets and pick which ones we believed were most relevalant to finding the best neighborhood. We decided that the overall safety of a neighborhood would be our way of defining which one is best.  \n",
    "\n",
    "## The Metric: \n",
    "Our metric is the overall safety of a neighborhood. This metric is very useful when defining the best neighborhood because it speaks to the people living near you. To measure this, we split safety into different categories: Fire Alarms, and Arrest Reports. \n",
    "\n",
    "## The Best Neighborhood: \n",
    "As you can see in our individual sections, both Adele's best neighborhood was Mt. Oliver Neighborhood and the second safest neighborhood for Forest was Mt. Oliver Neighborhood because it has the least amount of Fire Alarms and the least amount of Arrest Reports. \n",
    "\n",
    "## Conclusion: \n",
    "In conclusion, we used safety as our reasoning for finding the best neighborhood and were able to narrow it down to the same neighborhood in both cases. The fact that, for both Fire Alarm and Arrest safety, Mt. Oliver Neighborhood was found to be the safest bodes well for defining Mt. Oliver Neighborhood as the best neighborhood in Pittsburgh. "
   ]
  },
  {
   "cell_type": "code",
   "execution_count": null,
   "metadata": {},
   "outputs": [],
   "source": []
  }
 ],
 "metadata": {
  "kernelspec": {
   "display_name": "Python 3",
   "language": "python",
   "name": "python3"
  },
  "language_info": {
   "codemirror_mode": {
    "name": "ipython",
    "version": 3
   },
   "file_extension": ".py",
   "mimetype": "text/x-python",
   "name": "python",
   "nbconvert_exporter": "python",
   "pygments_lexer": "ipython3",
   "version": "3.8.3"
  }
 },
 "nbformat": 4,
 "nbformat_minor": 4
}
